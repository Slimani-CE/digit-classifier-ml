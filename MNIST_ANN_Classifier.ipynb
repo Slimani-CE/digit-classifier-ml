{
  "cells": [
    {
      "cell_type": "markdown",
      "metadata": {
        "id": "bzKfyPqTamfF"
      },
      "source": [
        "# Importing libraries"
      ]
    },
    {
      "cell_type": "code",
      "execution_count": 1,
      "metadata": {
        "id": "nE1GbN7EV9Om"
      },
      "outputs": [],
      "source": [
        "import tensorflow\n",
        "from tensorflow import keras\n",
        "from tensorflow.keras import Sequential\n",
        "from tensorflow.keras.layers import Dense, Flatten\n",
        "from matplotlib import pyplot as plt\n",
        "import numpy as np"
      ]
    },
    {
      "cell_type": "code",
      "execution_count": 2,
      "metadata": {
        "colab": {
          "base_uri": "https://localhost:8080/"
        },
        "id": "PUO2WHeQaqKH",
        "outputId": "adb4d75c-8c7c-4063-c846-89c1b9eecfdd"
      },
      "outputs": [
        {
          "name": "stdout",
          "output_type": "stream",
          "text": [
            "Downloading data from https://storage.googleapis.com/tensorflow/tf-keras-datasets/mnist.npz\n",
            "11490434/11490434 [==============================] - 4s 0us/step\n"
          ]
        }
      ],
      "source": [
        "(X_train,y_train),(X_test,y_test) = keras.datasets.mnist.load_data()"
      ]
    },
    {
      "cell_type": "code",
      "execution_count": 3,
      "metadata": {
        "colab": {
          "base_uri": "https://localhost:8080/"
        },
        "id": "Vtf_ZLWRb1wM",
        "outputId": "e5578aee-84d5-4f69-eb27-008a856cdf96"
      },
      "outputs": [
        {
          "data": {
            "text/plain": [
              "(60000, 28, 28)"
            ]
          },
          "execution_count": 3,
          "metadata": {},
          "output_type": "execute_result"
        }
      ],
      "source": [
        "X_train.shape"
      ]
    },
    {
      "cell_type": "code",
      "execution_count": 4,
      "metadata": {
        "colab": {
          "base_uri": "https://localhost:8080/"
        },
        "id": "ZiA3gWUWb3db",
        "outputId": "36838563-eed7-4400-9949-a38213f72825"
      },
      "outputs": [
        {
          "data": {
            "text/plain": [
              "array([5, 0, 4, 1, 9, 2, 1, 3, 1, 4], dtype=uint8)"
            ]
          },
          "execution_count": 4,
          "metadata": {},
          "output_type": "execute_result"
        }
      ],
      "source": [
        "y_train[:10]"
      ]
    },
    {
      "cell_type": "code",
      "execution_count": 5,
      "metadata": {
        "colab": {
          "base_uri": "https://localhost:8080/",
          "height": 447
        },
        "id": "kcZgDuPEb5kI",
        "outputId": "42b50c8f-7aa1-47ab-ba96-4023c8a16379"
      },
      "outputs": [
        {
          "data": {
            "text/plain": [
              "<matplotlib.image.AxesImage at 0x1bcdf64d240>"
            ]
          },
          "execution_count": 5,
          "metadata": {},
          "output_type": "execute_result"
        },
        {
          "data": {
            "image/png": "[encoded data removed]",
            "text/plain": [
              "<Figure size 640x480 with 1 Axes>"
            ]
          },
          "metadata": {},
          "output_type": "display_data"
        }
      ],
      "source": [
        "import matplotlib.pyplot as plt\n",
        "plt.imshow(X_train[2], cmap = plt.cm.binary)"
      ]
    },
    {
      "cell_type": "code",
      "execution_count": 6,
      "metadata": {
        "colab": {
          "base_uri": "https://localhost:8080/"
        },
        "id": "isUw-YfXb7SS",
        "outputId": "cec4a981-35b2-4b0f-b490-76c8c186f8c3"
      },
      "outputs": [
        {
          "name": "stdout",
          "output_type": "stream",
          "text": [
            "[[  0   0   0   0   0   0   0   0   0   0   0   0   0   0   0   0   0   0   0   0   0   0   0   0   0   0   0   0]\n",
            " [  0   0   0   0   0   0   0   0   0   0   0   0   0   0   0   0   0   0   0   0   0   0   0   0   0   0   0   0]\n",
            " [  0   0   0   0   0   0   0   0   0   0   0   0   0   0   0   0   0   0   0   0   0   0   0   0   0   0   0   0]\n",
            " [  0   0   0   0   0   0   0   0   0   0   0   0   0   0   0   0   0   0   0   0   0   0   0   0   0   0   0   0]\n",
            " [  0   0   0   0   0   0   0   0   0   0   0   0   0   0   0   0   0   0   0   0   0   0   0   0   0   0   0   0]\n",
            " [  0   0   0   0   0   0   0   0   0   0   0   0   0   0   0   0   0   0   0   0  67 232  39   0   0   0   0   0]\n",
            " [  0   0   0   0  62  81   0   0   0   0   0   0   0   0   0   0   0   0   0   0 120 180  39   0   0   0   0   0]\n",
            " [  0   0   0   0 126 163   0   0   0   0   0   0   0   0   0   0   0   0   0   2 153 210  40   0   0   0   0   0]\n",
            " [  0   0   0   0 220 163   0   0   0   0   0   0   0   0   0   0   0   0   0  27 254 162   0   0   0   0   0   0]\n",
            " [  0   0   0   0 222 163   0   0   0   0   0   0   0   0   0   0   0   0   0 183 254 125   0   0   0   0   0   0]\n",
            " [  0   0   0  46 245 163   0   0   0   0   0   0   0   0   0   0   0   0   0 198 254  56   0   0   0   0   0   0]\n",
            " [  0   0   0 120 254 163   0   0   0   0   0   0   0   0   0   0   0   0  23 231 254  29   0   0   0   0   0   0]\n",
            " [  0   0   0 159 254 120   0   0   0   0   0   0   0   0   0   0   0   0 163 254 216  16   0   0   0   0   0   0]\n",
            " [  0   0   0 159 254  67   0   0   0   0   0   0   0   0   0  14  86 178 248 254  91   0   0   0   0   0   0   0]\n",
            " [  0   0   0 159 254  85   0   0   0  47  49 116 144 150 241 243 234 179 241 252  40   0   0   0   0   0   0   0]\n",
            " [  0   0   0 150 253 237 207 207 207 253 254 250 240 198 143  91  28   5 233 250   0   0   0   0   0   0   0   0]\n",
            " [  0   0   0   0 119 177 177 177 177 177  98  56   0   0   0   0   0 102 254 220   0   0   0   0   0   0   0   0]\n",
            " [  0   0   0   0   0   0   0   0   0   0   0   0   0   0   0   0   0 169 254 137   0   0   0   0   0   0   0   0]\n",
            " [  0   0   0   0   0   0   0   0   0   0   0   0   0   0   0   0   0 169 254  57   0   0   0   0   0   0   0   0]\n",
            " [  0   0   0   0   0   0   0   0   0   0   0   0   0   0   0   0   0 169 254  57   0   0   0   0   0   0   0   0]\n",
            " [  0   0   0   0   0   0   0   0   0   0   0   0   0   0   0   0   0 169 255  94   0   0   0   0   0   0   0   0]\n",
            " [  0   0   0   0   0   0   0   0   0   0   0   0   0   0   0   0   0 169 254  96   0   0   0   0   0   0   0   0]\n",
            " [  0   0   0   0   0   0   0   0   0   0   0   0   0   0   0   0   0 169 254 153   0   0   0   0   0   0   0   0]\n",
            " [  0   0   0   0   0   0   0   0   0   0   0   0   0   0   0   0   0 169 255 153   0   0   0   0   0   0   0   0]\n",
            " [  0   0   0   0   0   0   0   0   0   0   0   0   0   0   0   0   0  96 254 153   0   0   0   0   0   0   0   0]\n",
            " [  0   0   0   0   0   0   0   0   0   0   0   0   0   0   0   0   0   0   0   0   0   0   0   0   0   0   0   0]\n",
            " [  0   0   0   0   0   0   0   0   0   0   0   0   0   0   0   0   0   0   0   0   0   0   0   0   0   0   0   0]\n",
            " [  0   0   0   0   0   0   0   0   0   0   0   0   0   0   0   0   0   0   0   0   0   0   0   0   0   0   0   0]]\n"
          ]
        }
      ],
      "source": [
        "np.set_printoptions(linewidth = np.inf)\n",
        "print(X_train[2])"
      ]
    },
    {
      "cell_type": "markdown",
      "metadata": {
        "id": "LTEhHacTsLED"
      },
      "source": [
        "# Normalize the dataset"
      ]
    },
    {
      "cell_type": "code",
      "execution_count": 7,
      "metadata": {
        "colab": {
          "base_uri": "https://localhost:8080/",
          "height": 447
        },
        "id": "8MJPtkvxczZC",
        "outputId": "ead489d7-30eb-4f9b-d8b4-61e55a693a95"
      },
      "outputs": [
        {
          "data": {
            "text/plain": [
              "<matplotlib.image.AxesImage at 0x1bce18a1540>"
            ]
          },
          "execution_count": 7,
          "metadata": {},
          "output_type": "execute_result"
        },
        {
          "data": {
            "image/png": "[encoded data removed]",
            "text/plain": [
              "<Figure size 640x480 with 1 Axes>"
            ]
          },
          "metadata": {},
          "output_type": "display_data"
        }
      ],
      "source": [
        "X_train = X_train / 255\n",
        "X_test = X_test / 255\n",
        "\n",
        "plt.imshow(X_train[2], cmap = plt.cm.binary)"
      ]
    },
    {
      "cell_type": "markdown",
      "metadata": {
        "id": "UTri1ngec-fv"
      },
      "source": [
        "#Resizing images"
      ]
    },
    {
      "cell_type": "code",
      "execution_count": 8,
      "metadata": {
        "colab": {
          "base_uri": "https://localhost:8080/"
        },
        "id": "OQX4VVT_bFcK",
        "outputId": "c637cd6a-e704-47f9-ebea-0ab4d4fb8123"
      },
      "outputs": [
        {
          "name": "stdout",
          "output_type": "stream",
          "text": [
            "Training samples dimension :  (60000, 28, 28, 1)\n",
            "Test samples dimension :  (10000, 28, 28, 1)\n"
          ]
        }
      ],
      "source": [
        "IMG_SIZE = 28\n",
        "X_train_resized = np.array(X_train).reshape(-1, IMG_SIZE, IMG_SIZE, 1)\n",
        "X_test_resized = np.array(X_test).reshape(-1, IMG_SIZE, IMG_SIZE, 1)\n",
        "print(\"Training samples dimension : \", X_train_resized.shape)\n",
        "print(\"Test samples dimension : \", X_test_resized.shape)"
      ]
    },
    {
      "cell_type": "markdown",
      "metadata": {
        "id": "_3-LLryveScn"
      },
      "source": [
        "# Train deep learning model"
      ]
    },
    {
      "cell_type": "code",
      "execution_count": 9,
      "metadata": {
        "id": "Wt_xU_xfeymj"
      },
      "outputs": [],
      "source": [
        "model = Sequential()\n",
        "\n",
        "model.add(Flatten(input_shape=(IMG_SIZE, IMG_SIZE)))\n",
        "model.add(Dense(128, activation='relu'))\n",
        "model.add(Dense(32, activation='relu'))\n",
        "model.add(Dense(10, activation='softmax'))"
      ]
    },
    {
      "cell_type": "code",
      "execution_count": 10,
      "metadata": {
        "colab": {
          "base_uri": "https://localhost:8080/"
        },
        "id": "CCTDEEHEGV8r",
        "outputId": "bec34d80-8d01-4311-f067-dc86b86e3eb2"
      },
      "outputs": [
        {
          "name": "stdout",
          "output_type": "stream",
          "text": [
            "Model: \"sequential\"\n",
            "_________________________________________________________________\n",
            " Layer (type)                Output Shape              Param #   \n",
            "=================================================================\n",
            " flatten (Flatten)           (None, 784)               0         \n",
            "                                                                 \n",
            " dense (Dense)               (None, 128)               100480    \n",
            "                                                                 \n",
            " dense_1 (Dense)             (None, 32)                4128      \n",
            "                                                                 \n",
            " dense_2 (Dense)             (None, 10)                330       \n",
            "                                                                 \n",
            "=================================================================\n",
            "Total params: 104,938\n",
            "Trainable params: 104,938\n",
            "Non-trainable params: 0\n",
            "_________________________________________________________________\n"
          ]
        }
      ],
      "source": [
        "model.summary()"
      ]
    },
    {
      "cell_type": "code",
      "execution_count": 11,
      "metadata": {
        "id": "ELi0v3ycHPJ_"
      },
      "outputs": [],
      "source": [
        "model.compile(loss = \"sparse_categorical_crossentropy\", optimizer = \"adam\", metrics = ['accuracy'])"
      ]
    },
    {
      "cell_type": "code",
      "execution_count": 12,
      "metadata": {
        "colab": {
          "base_uri": "https://localhost:8080/"
        },
        "id": "NoCKNSBxHtDI",
        "outputId": "fef553a2-0137-4551-fe88-3dc8622d4e70"
      },
      "outputs": [
        {
          "name": "stdout",
          "output_type": "stream",
          "text": [
            "Epoch 1/25\n",
            "1500/1500 [==============================] - 17s 9ms/step - loss: 0.2957 - accuracy: 0.9147 - val_loss: 0.1729 - val_accuracy: 0.9500\n",
            "Epoch 2/25\n",
            "1500/1500 [==============================] - 12s 8ms/step - loss: 0.1208 - accuracy: 0.9639 - val_loss: 0.1119 - val_accuracy: 0.9663\n",
            "Epoch 3/25\n",
            "1500/1500 [==============================] - 14s 9ms/step - loss: 0.0831 - accuracy: 0.9754 - val_loss: 0.1095 - val_accuracy: 0.9683\n",
            "Epoch 4/25\n",
            "1500/1500 [==============================] - 12s 8ms/step - loss: 0.0626 - accuracy: 0.9807 - val_loss: 0.1126 - val_accuracy: 0.9674\n",
            "Epoch 5/25\n",
            "1500/1500 [==============================] - 12s 8ms/step - loss: 0.0490 - accuracy: 0.9849 - val_loss: 0.1070 - val_accuracy: 0.9693\n",
            "Epoch 6/25\n",
            "1500/1500 [==============================] - 12s 8ms/step - loss: 0.0399 - accuracy: 0.9869 - val_loss: 0.1012 - val_accuracy: 0.9724\n",
            "Epoch 7/25\n",
            "1500/1500 [==============================] - 12s 8ms/step - loss: 0.0325 - accuracy: 0.9894 - val_loss: 0.0962 - val_accuracy: 0.9730\n",
            "Epoch 8/25\n",
            "1500/1500 [==============================] - 11s 7ms/step - loss: 0.0268 - accuracy: 0.9916 - val_loss: 0.1158 - val_accuracy: 0.9707\n",
            "Epoch 9/25\n",
            "1500/1500 [==============================] - 9s 6ms/step - loss: 0.0232 - accuracy: 0.9925 - val_loss: 0.1084 - val_accuracy: 0.9729\n",
            "Epoch 10/25\n",
            "1500/1500 [==============================] - 11s 7ms/step - loss: 0.0183 - accuracy: 0.9938 - val_loss: 0.1198 - val_accuracy: 0.9728\n",
            "Epoch 11/25\n",
            "1500/1500 [==============================] - 10s 7ms/step - loss: 0.0174 - accuracy: 0.9945 - val_loss: 0.1221 - val_accuracy: 0.9723\n",
            "Epoch 12/25\n",
            "1500/1500 [==============================] - 9s 6ms/step - loss: 0.0135 - accuracy: 0.9955 - val_loss: 0.1216 - val_accuracy: 0.9737\n",
            "Epoch 13/25\n",
            "1500/1500 [==============================] - 9s 6ms/step - loss: 0.0156 - accuracy: 0.9945 - val_loss: 0.1271 - val_accuracy: 0.9733\n",
            "Epoch 14/25\n",
            "1500/1500 [==============================] - 8s 6ms/step - loss: 0.0129 - accuracy: 0.9956 - val_loss: 0.1303 - val_accuracy: 0.9737\n",
            "Epoch 15/25\n",
            "1500/1500 [==============================] - 13s 8ms/step - loss: 0.0123 - accuracy: 0.9959 - val_loss: 0.1415 - val_accuracy: 0.9718\n",
            "Epoch 16/25\n",
            "1500/1500 [==============================] - 11s 8ms/step - loss: 0.0099 - accuracy: 0.9968 - val_loss: 0.1211 - val_accuracy: 0.9762\n",
            "Epoch 17/25\n",
            "1500/1500 [==============================] - 11s 7ms/step - loss: 0.0108 - accuracy: 0.9963 - val_loss: 0.1316 - val_accuracy: 0.9758\n",
            "Epoch 18/25\n",
            "1500/1500 [==============================] - 11s 7ms/step - loss: 0.0102 - accuracy: 0.9967 - val_loss: 0.1544 - val_accuracy: 0.9733\n",
            "Epoch 19/25\n",
            "1500/1500 [==============================] - 11s 8ms/step - loss: 0.0098 - accuracy: 0.9965 - val_loss: 0.1504 - val_accuracy: 0.9755\n",
            "Epoch 20/25\n",
            "1500/1500 [==============================] - 11s 7ms/step - loss: 0.0077 - accuracy: 0.9973 - val_loss: 0.1368 - val_accuracy: 0.9762\n",
            "Epoch 21/25\n",
            "1500/1500 [==============================] - 11s 7ms/step - loss: 0.0104 - accuracy: 0.9967 - val_loss: 0.1590 - val_accuracy: 0.9753\n",
            "Epoch 22/25\n",
            "1500/1500 [==============================] - 11s 8ms/step - loss: 0.0083 - accuracy: 0.9971 - val_loss: 0.1431 - val_accuracy: 0.9762\n",
            "Epoch 23/25\n",
            "1500/1500 [==============================] - 11s 7ms/step - loss: 0.0073 - accuracy: 0.9975 - val_loss: 0.1567 - val_accuracy: 0.9739\n",
            "Epoch 24/25\n",
            "1500/1500 [==============================] - 11s 7ms/step - loss: 0.0098 - accuracy: 0.9972 - val_loss: 0.1499 - val_accuracy: 0.9746\n",
            "Epoch 25/25\n",
            "1500/1500 [==============================] - 12s 8ms/step - loss: 0.0080 - accuracy: 0.9974 - val_loss: 0.1716 - val_accuracy: 0.9727\n"
          ]
        }
      ],
      "source": [
        "history = model.fit(X_train, y_train, epochs = 25, validation_split = 0.2)"
      ]
    },
    {
      "cell_type": "code",
      "execution_count": 13,
      "metadata": {
        "colab": {
          "base_uri": "https://localhost:8080/"
        },
        "id": "r0hZreQrJuO9",
        "outputId": "0d2bc718-f652-4c7a-d214-f4db68dc44e6"
      },
      "outputs": [
        {
          "name": "stdout",
          "output_type": "stream",
          "text": [
            "313/313 [==============================] - 2s 5ms/step - loss: 0.1593 - accuracy: 0.9728\n",
            "Test loss on 10,000 test samples :  0.15931996703147888\n",
            "Validation accuracy on 10,000 test samples :  0.9728000164031982\n"
          ]
        }
      ],
      "source": [
        "test_loss, test_acc = model.evaluate(X_test, y_test)\n",
        "print(\"Test loss on 10,000 test samples : \", test_loss)\n",
        "print(\"Validation accuracy on 10,000 test samples : \", test_acc)"
      ]
    },
    {
      "cell_type": "code",
      "execution_count": 14,
      "metadata": {
        "colab": {
          "base_uri": "https://localhost:8080/"
        },
        "id": "EYJrCKJPHuJL",
        "outputId": "1f8dd5d2-b39d-4b7c-f93a-45f9c66857ce"
      },
      "outputs": [
        {
          "name": "stdout",
          "output_type": "stream",
          "text": [
            "313/313 [==============================] - 2s 5ms/step\n"
          ]
        }
      ],
      "source": [
        "predictions = model.predict(X_test)"
      ]
    },
    {
      "cell_type": "code",
      "execution_count": 15,
      "metadata": {
        "colab": {
          "base_uri": "https://localhost:8080/"
        },
        "id": "v1nfP-3HKNXb",
        "outputId": "66d606c2-7bf1-47b2-8e30-8f768382fa0b"
      },
      "outputs": [
        {
          "name": "stdout",
          "output_type": "stream",
          "text": [
            "5\n"
          ]
        }
      ],
      "source": [
        "print(np.argmax(predictions[45]))"
      ]
    },
    {
      "cell_type": "code",
      "execution_count": 16,
      "metadata": {
        "colab": {
          "base_uri": "https://localhost:8080/",
          "height": 447
        },
        "id": "0tVTOYufKXlx",
        "outputId": "3d70709b-9516-4fe3-c829-89adb08d568f"
      },
      "outputs": [
        {
          "data": {
            "text/plain": [
              "<matplotlib.image.AxesImage at 0x1bcde6c79d0>"
            ]
          },
          "execution_count": 16,
          "metadata": {},
          "output_type": "execute_result"
        },
        {
          "data": {
            "image/png": "[encoded data removed]",
            "text/plain": [
              "<Figure size 640x480 with 1 Axes>"
            ]
          },
          "metadata": {},
          "output_type": "display_data"
        }
      ],
      "source": [
        "plt.imshow(X_test[45], cmap = plt.cm.binary)"
      ]
    },
    {
      "cell_type": "code",
      "execution_count": 17,
      "metadata": {
        "colab": {
          "base_uri": "https://localhost:8080/",
          "height": 449
        },
        "id": "C9MXfsPueuCu",
        "outputId": "1558e750-24d9-422a-c2d5-a4e760844941"
      },
      "outputs": [
        {
          "data": {
            "image/png": "[encoded data removed]",
            "text/plain": [
              "<Figure size 640x480 with 1 Axes>"
            ]
          },
          "metadata": {},
          "output_type": "display_data"
        }
      ],
      "source": [
        "plt.plot(history.history['loss'])\n",
        "plt.plot(history.history['val_loss'])\n",
        "plt.xlabel('Epochs')\n",
        "plt.ylabel('Loss')\n",
        "plt.legend(['Loss', 'Validation loss'])\n",
        "plt.show()"
      ]
    },
    {
      "cell_type": "code",
      "execution_count": 18,
      "metadata": {
        "colab": {
          "base_uri": "https://localhost:8080/",
          "height": 449
        },
        "id": "zU6Sa3TFeyw7",
        "outputId": "2a121c1b-557e-45ac-93d1-535cd4d1e412"
      },
      "outputs": [
        {
          "data": {
            "image/png": "[encoded data removed]",
            "text/plain": [
              "<Figure size 640x480 with 1 Axes>"
            ]
          },
          "metadata": {},
          "output_type": "display_data"
        }
      ],
      "source": [
        "plt.plot(history.history['accuracy'])\n",
        "plt.plot(history.history['val_accuracy'])\n",
        "plt.xlabel('Epochs')\n",
        "plt.ylabel('Accuracy')\n",
        "plt.legend(['Accuracy', 'Validation accuracy'])\n",
        "plt.show()"
      ]
    },
    {
      "cell_type": "code",
      "execution_count": 19,
      "metadata": {
        "id": "dtrW_UVhLG7T"
      },
      "outputs": [],
      "source": [
        "import cv2"
      ]
    },
    {
      "cell_type": "code",
      "execution_count": 20,
      "metadata": {
        "colab": {
          "base_uri": "https://localhost:8080/"
        },
        "id": "L8G-lLzJjxRL",
        "outputId": "1f041776-6097-4886-e820-78f705889f75"
      },
      "outputs": [
        {
          "data": {
            "text/plain": [
              "(10000, 28, 28)"
            ]
          },
          "execution_count": 20,
          "metadata": {},
          "output_type": "execute_result"
        }
      ],
      "source": [
        "X_test.shape"
      ]
    },
    {
      "cell_type": "code",
      "execution_count": 21,
      "metadata": {
        "colab": {
          "base_uri": "https://localhost:8080/",
          "height": 470
        },
        "id": "NWFZ_4L1MBHG",
        "outputId": "da11adb2-8609-4d57-f0b3-e52c8ddb83b9"
      },
      "outputs": [
        {
          "ename": "TypeError",
          "evalue": "'NoneType' object is not subscriptable",
          "output_type": "error",
          "traceback": [
            "\u001b[1;31m---------------------------------------------------------------------------\u001b[0m",
            "\u001b[1;31mTypeError\u001b[0m                                 Traceback (most recent call last)",
            "Cell \u001b[1;32mIn [21], line 1\u001b[0m\n\u001b[1;32m----> 1\u001b[0m img \u001b[38;5;241m=\u001b[39m \u001b[43mcv2\u001b[49m\u001b[38;5;241;43m.\u001b[39;49m\u001b[43mimread\u001b[49m\u001b[43m(\u001b[49m\u001b[38;5;124;43m'\u001b[39;49m\u001b[38;5;124;43msex.jpg\u001b[39;49m\u001b[38;5;124;43m'\u001b[39;49m\u001b[43m,\u001b[49m\u001b[43m \u001b[49m\u001b[43mcv2\u001b[49m\u001b[38;5;241;43m.\u001b[39;49m\u001b[43mIMREAD_UNCHANGED\u001b[49m\u001b[43m)\u001b[49m\u001b[43m[\u001b[49m\u001b[43m:\u001b[49m\u001b[43m,\u001b[49m\u001b[43m:\u001b[49m\u001b[43m,\u001b[49m\u001b[38;5;241;43m-\u001b[39;49m\u001b[38;5;241;43m1\u001b[39;49m\u001b[43m]\u001b[49m\n\u001b[0;32m      2\u001b[0m plt\u001b[38;5;241m.\u001b[39mimshow(img)\n\u001b[0;32m      4\u001b[0m resized \u001b[38;5;241m=\u001b[39m cv2\u001b[38;5;241m.\u001b[39mresize(img, (IMG_SIZE, IMG_SIZE), interpolation \u001b[38;5;241m=\u001b[39m cv2\u001b[38;5;241m.\u001b[39mINTER_AREA)\n",
            "\u001b[1;31mTypeError\u001b[0m: 'NoneType' object is not subscriptable"
          ]
        }
      ],
      "source": [
        "img = cv2.imread('sex.jpg', cv2.IMREAD_UNCHANGED)[:,:,-1]\n",
        "plt.imshow(img)\n",
        "\n",
        "resized = cv2.resize(img, (IMG_SIZE, IMG_SIZE), interpolation = cv2.INTER_AREA)\n",
        "newImg = resized / 255\n",
        "newImg = np.array(newImg).reshape(-1, IMG_SIZE, IMG_SIZE, 1)\n",
        "\n",
        "prediction = model.predict(newImg)\n",
        "\n",
        "print(\"Predicted value: \", np.argmax(prediction))"
      ]
    },
    {
      "cell_type": "markdown",
      "metadata": {
        "id": "4b6vCNVtiaFR"
      },
      "source": [
        "## Exporting the model"
      ]
    },
    {
      "cell_type": "code",
      "execution_count": 22,
      "metadata": {
        "id": "iw8ANP74rdWZ"
      },
      "outputs": [],
      "source": [
        "# Create a class that will contain the model and image preprocesing method\n",
        "class DigitClassifier:\n",
        "  def __init__(self, model, IMG_SIZE):\n",
        "    self.model = model\n",
        "    self.IMG_SIZE = IMG_SIZE\n",
        "\n",
        "  def predict(self, img):\n",
        "    img = img[:, :, -1]\n",
        "\n",
        "    resized = cv2.resize(\n",
        "        img, (self.IMG_SIZE, self.IMG_SIZE), interpolation=cv2.INTER_AREA)\n",
        "    newImg = resized / 255\n",
        "    newImg = np.array(newImg).reshape(-1, self.IMG_SIZE, self.IMG_SIZE, 1)\n",
        "\n",
        "    prediction = self.model.predict(newImg)\n",
        "\n",
        "    index = np.argmax(prediction)\n",
        "\n",
        "    return index, prediction[index]\n",
        "\n",
        "classifier = DigitClassifier(model, IMG_SIZE)"
      ]
    },
    {
      "cell_type": "code",
      "execution_count": 24,
      "metadata": {
        "id": "GiyRfVi_kPU9"
      },
      "outputs": [
        {
          "name": "stdout",
          "output_type": "stream",
          "text": [
            "Keras weights file (<HDF5 file \"variables.h5\" (mode r+)>) saving:\n",
            "...layers\\dense\n",
            "......vars\n",
            ".........0\n",
            ".........1\n",
            "...layers\\dense_1\n",
            "......vars\n",
            ".........0\n",
            ".........1\n",
            "...layers\\dense_2\n",
            "......vars\n",
            ".........0\n",
            ".........1\n",
            "...layers\\flatten\n",
            "......vars\n",
            "...metrics\\mean\n",
            "......vars\n",
            ".........0\n",
            ".........1\n",
            "...metrics\\mean_metric_wrapper\n",
            "......vars\n",
            ".........0\n",
            ".........1\n",
            "...optimizer\n",
            "......vars\n",
            ".........0\n",
            ".........1\n",
            ".........10\n",
            ".........11\n",
            ".........12\n",
            ".........2\n",
            ".........3\n",
            ".........4\n",
            ".........5\n",
            ".........6\n",
            ".........7\n",
            ".........8\n",
            ".........9\n",
            "...vars\n",
            "Keras model archive saving:\n",
            "File Name                                             Modified             Size\n",
            "config.json                                    2023-06-20 18:33:07         1981\n",
            "metadata.json                                  2023-06-20 18:33:07           64\n",
            "variables.h5                                   2023-06-20 18:33:07      1282720\n"
          ]
        }
      ],
      "source": [
        "# Export the model using pickle\n",
        "import pickle\n",
        "\n",
        "with open('digit-classifier-model.pkl', 'wb') as file:\n",
        "    pickle.dump(classifier, file)"
      ]
    },
    {
      "cell_type": "code",
      "execution_count": null,
      "metadata": {
        "id": "lAT_eWNJli_W"
      },
      "outputs": [],
      "source": []
    },
    {
      "cell_type": "code",
      "execution_count": null,
      "metadata": {},
      "outputs": [],
      "source": []
    }
  ],
  "metadata": {
    "accelerator": "GPU",
    "colab": {
      "gpuType": "T4",
      "provenance": []
    },
    "kernelspec": {
      "display_name": "Python 3.10.7 64-bit",
      "language": "python",
      "name": "python3"
    },
    "language_info": {
      "codemirror_mode": {
        "name": "ipython",
        "version": 3
      },
      "file_extension": ".py",
      "mimetype": "text/x-python",
      "name": "python",
      "nbconvert_exporter": "python",
      "pygments_lexer": "ipython3",
      "version": "3.10.7"
    },
    "vscode": {
      "interpreter": {
        "hash": "adcdc9546cb159aa502d4ffbef58f8603f8667de5a2c8f1c98b160dfdc201d52"
      }
    }
  },
  "nbformat": 4,
  "nbformat_minor": 0
}
